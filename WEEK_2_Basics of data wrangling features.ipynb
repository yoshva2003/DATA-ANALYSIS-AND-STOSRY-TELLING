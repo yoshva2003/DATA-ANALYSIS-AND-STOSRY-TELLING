{
 "cells": [
  {
   "cell_type": "code",
   "execution_count": 9,
   "id": "c307e6ea",
   "metadata": {},
   "outputs": [
    {
     "name": "stdout",
     "output_type": "stream",
     "text": [
      "      Name  Age        City\n",
      "0    Alice   24      Trichy\n",
      "1   Yoshva   25  Kumbakonam\n",
      "2  Charlie   26     Madurai\n"
     ]
    }
   ],
   "source": [
    "import pandas as pd\n",
    "\n",
    "data = {'Name': ['Alice', 'Yoshva', 'Charlie'], 'Age': [24, 25, 26],'City': ['Trichy', 'Kumbakonam', 'Madurai']}\n",
    "df = pd.DataFrame(data)\n",
    "print(df)"
   ]
  },
  {
   "cell_type": "code",
   "execution_count": 10,
   "id": "72b0c907",
   "metadata": {},
   "outputs": [
    {
     "name": "stdout",
     "output_type": "stream",
     "text": [
      "            Name   Age          City                     Email\n",
      "0       John Doe    29      New York        john.doe@email.com\n",
      "1     Jane Smith    34   Los Angeles      jane.smith@email.com\n",
      "2   Mark Johnson    45       Chicago    mark.johnson@email.com\n",
      "3    Emily Davis    22       Houston     emily.davis@email.com\n",
      "4  Michael Brown    38       Phoenix   michael.brown@email.com\n"
     ]
    }
   ],
   "source": [
    "import pandas as pd\n",
    "df=pd.read_csv('sample.csv')\n",
    "print(df.head())"
   ]
  },
  {
   "cell_type": "code",
   "execution_count": 12,
   "id": "b36102b5",
   "metadata": {},
   "outputs": [
    {
     "name": "stdout",
     "output_type": "stream",
     "text": [
      "              Name   Age           City                       Email\n",
      "5     Sarah Wilson    26   Philadelphia      sarah.wilson@email.com\n",
      "6      David Moore    41    San Antonio       david.moore@email.com\n",
      "7    Sophia Taylor    30      San Diego     sophia.taylor@email.com\n",
      "8   James Anderson    50         Dallas    james.anderson@email.com\n",
      "9  Isabella Thomas    28         Austin   isabella.thomas@email.com\n"
     ]
    }
   ],
   "source": [
    "import pandas as pd\n",
    "df=pd.read_csv('sample.csv')\n",
    "print(df.tail())"
   ]
  },
  {
   "cell_type": "code",
   "execution_count": 5,
   "id": "6e48d0a2",
   "metadata": {},
   "outputs": [
    {
     "name": "stdout",
     "output_type": "stream",
     "text": [
      "     A    B\n",
      "1  2.0  2.0\n",
      "3  4.0  4.0\n"
     ]
    }
   ],
   "source": [
    "import pandas as pd\n",
    "\n",
    "df = pd.DataFrame({'A': [1, 2, None, 4], 'B': [None, 2, 3, 4]})\n",
    "df_cleaned = df.dropna()\n",
    "print(df_cleaned)\n"
   ]
  },
  {
   "cell_type": "code",
   "execution_count": 7,
   "id": "94602604",
   "metadata": {},
   "outputs": [
    {
     "name": "stdout",
     "output_type": "stream",
     "text": [
      "   A  B\n",
      "2  3  7\n",
      "3  4  8\n"
     ]
    }
   ],
   "source": [
    "import pandas as pd\n",
    "df=pd.DataFrame({'A':[1,2,3,4],'B':[5,6,7,8]})\n",
    "filterd_data=df[df['A']>2]\n",
    "print(filterd_data)"
   ]
  },
  {
   "cell_type": "code",
   "execution_count": 9,
   "id": "e2963195",
   "metadata": {},
   "outputs": [
    {
     "name": "stdout",
     "output_type": "stream",
     "text": [
      "     B\n",
      "A     \n",
      "Boo  6\n",
      "Foo  4\n"
     ]
    }
   ],
   "source": [
    "import pandas as pd\n",
    "df=pd.DataFrame({'A':['Foo','Boo','Foo','Boo'],'B':[1,2,3,4]})\n",
    "grouped=df.groupby('A').sum()\n",
    "print(grouped)"
   ]
  },
  {
   "cell_type": "code",
   "execution_count": 11,
   "id": "9a3a9f02",
   "metadata": {},
   "outputs": [
    {
     "name": "stdout",
     "output_type": "stream",
     "text": [
      "     A  B  C\n",
      "0  Foo  1  3\n",
      "1  Bat  2  4\n"
     ]
    }
   ],
   "source": [
    "import pandas as pd\n",
    "df1=pd.DataFrame({'A':['Foo','Bat'],'B':[1,2]})\n",
    "df2=pd.DataFrame({'A':['Foo','Bat'],'C':[3,4]})\n",
    "merged_df=pd.merge(df1,df2,on='A')\n",
    "print(merged_df)"
   ]
  },
  {
   "cell_type": "code",
   "execution_count": null,
   "id": "ba87bd83",
   "metadata": {},
   "outputs": [],
   "source": []
  }
 ],
 "metadata": {
  "kernelspec": {
   "display_name": "Python 3 (ipykernel)",
   "language": "python",
   "name": "python3"
  },
  "language_info": {
   "codemirror_mode": {
    "name": "ipython",
    "version": 3
   },
   "file_extension": ".py",
   "mimetype": "text/x-python",
   "name": "python",
   "nbconvert_exporter": "python",
   "pygments_lexer": "ipython3",
   "version": "3.9.12"
  }
 },
 "nbformat": 4,
 "nbformat_minor": 5
}

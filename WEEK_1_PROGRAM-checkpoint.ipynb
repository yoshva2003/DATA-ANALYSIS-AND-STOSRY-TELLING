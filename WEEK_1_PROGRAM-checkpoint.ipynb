{
 "cells": [
  {
   "cell_type": "markdown",
   "id": "acd47ff3",
   "metadata": {},
   "source": [
    "# Basic array_operations"
   ]
  },
  {
   "cell_type": "code",
   "execution_count": 2,
   "id": "667c1718",
   "metadata": {},
   "outputs": [],
   "source": [
    "import numpy as np"
   ]
  },
  {
   "cell_type": "code",
   "execution_count": 6,
   "id": "9c9c1fa5",
   "metadata": {},
   "outputs": [
    {
     "name": "stdout",
     "output_type": "stream",
     "text": [
      "array: [1 2 3 4 5]\n"
     ]
    }
   ],
   "source": [
    "arr=np.array([1,2,3,4,5])\n",
    "print(\"array:\",arr)"
   ]
  },
  {
   "cell_type": "code",
   "execution_count": 7,
   "id": "bc0e465e",
   "metadata": {},
   "outputs": [
    {
     "name": "stdout",
     "output_type": "stream",
     "text": [
      "add 5 [ 6  7  8  9 10]\n"
     ]
    }
   ],
   "source": [
    "print(\"add 5\",arr+5)"
   ]
  },
  {
   "cell_type": "code",
   "execution_count": 10,
   "id": "e9d8cad1",
   "metadata": {},
   "outputs": [
    {
     "name": "stdout",
     "output_type": "stream",
     "text": [
      "multiply 2 [ 2  4  6  8 10]\n"
     ]
    }
   ],
   "source": [
    "print(\"multiply 2\",arr*2)"
   ]
  },
  {
   "cell_type": "markdown",
   "id": "4b4c124d",
   "metadata": {},
   "source": [
    "# Mean_median_standard deviation"
   ]
  },
  {
   "cell_type": "code",
   "execution_count": 11,
   "id": "f63e2113",
   "metadata": {},
   "outputs": [],
   "source": [
    "import numpy as np"
   ]
  },
  {
   "cell_type": "code",
   "execution_count": 12,
   "id": "d900f5a8",
   "metadata": {},
   "outputs": [],
   "source": [
    "arr=np.array([1,2,3,4,5,6,7,8,9,10])"
   ]
  },
  {
   "cell_type": "code",
   "execution_count": 14,
   "id": "d68ff1f3",
   "metadata": {},
   "outputs": [
    {
     "name": "stdout",
     "output_type": "stream",
     "text": [
      "mean 5.5\n"
     ]
    }
   ],
   "source": [
    "print(\"mean\",np.mean(arr))"
   ]
  },
  {
   "cell_type": "code",
   "execution_count": 16,
   "id": "181e4bc0",
   "metadata": {},
   "outputs": [
    {
     "name": "stdout",
     "output_type": "stream",
     "text": [
      "median 5.5\n"
     ]
    }
   ],
   "source": [
    "print(\"median\",np.median(arr))"
   ]
  },
  {
   "cell_type": "code",
   "execution_count": 17,
   "id": "49173640",
   "metadata": {},
   "outputs": [
    {
     "name": "stdout",
     "output_type": "stream",
     "text": [
      "standard_deviation 2.8722813232690143\n"
     ]
    }
   ],
   "source": [
    "print(\"standard_deviation\",np.std(arr))"
   ]
  },
  {
   "cell_type": "markdown",
   "id": "2bbfd8ce",
   "metadata": {},
   "source": [
    "# Reshaping_arrays"
   ]
  },
  {
   "cell_type": "code",
   "execution_count": 19,
   "id": "39d399aa",
   "metadata": {},
   "outputs": [],
   "source": [
    "import numpy as np"
   ]
  },
  {
   "cell_type": "code",
   "execution_count": 25,
   "id": "db95301c",
   "metadata": {},
   "outputs": [],
   "source": [
    "arr=np.arange(1,13)"
   ]
  },
  {
   "cell_type": "code",
   "execution_count": 28,
   "id": "fe114c51",
   "metadata": {},
   "outputs": [],
   "source": [
    "reshaped_arr=arr.reshape(3,4)"
   ]
  },
  {
   "cell_type": "code",
   "execution_count": 30,
   "id": "b825202b",
   "metadata": {},
   "outputs": [
    {
     "name": "stdout",
     "output_type": "stream",
     "text": [
      "Reshaped_array [[ 1  2  3  4]\n",
      " [ 5  6  7  8]\n",
      " [ 9 10 11 12]]\n"
     ]
    }
   ],
   "source": [
    "print(\"Reshaped_array\",reshaped_arr)"
   ]
  },
  {
   "cell_type": "markdown",
   "id": "68eb31b5",
   "metadata": {},
   "source": [
    "# Array_indexing"
   ]
  },
  {
   "cell_type": "code",
   "execution_count": 31,
   "id": "4687d921",
   "metadata": {},
   "outputs": [],
   "source": [
    "import numpy as np"
   ]
  },
  {
   "cell_type": "code",
   "execution_count": 32,
   "id": "9c875b52",
   "metadata": {},
   "outputs": [],
   "source": [
    "arr=np.array([10,20,30,40,50])"
   ]
  },
  {
   "cell_type": "code",
   "execution_count": 33,
   "id": "2c514fdc",
   "metadata": {},
   "outputs": [
    {
     "name": "stdout",
     "output_type": "stream",
     "text": [
      "First_element 10\n"
     ]
    }
   ],
   "source": [
    "print(\"First_element\",arr[0])"
   ]
  },
  {
   "cell_type": "code",
   "execution_count": 36,
   "id": "c2a0069f",
   "metadata": {},
   "outputs": [
    {
     "name": "stdout",
     "output_type": "stream",
     "text": [
      "Last_element 50\n"
     ]
    }
   ],
   "source": [
    "print(\"Last_element\",arr[-1])"
   ]
  },
  {
   "cell_type": "code",
   "execution_count": 40,
   "id": "4353381f",
   "metadata": {},
   "outputs": [
    {
     "name": "stdout",
     "output_type": "stream",
     "text": [
      "slicing [20 30]\n"
     ]
    }
   ],
   "source": [
    "print(\"slicing\",arr[1:3])"
   ]
  },
  {
   "cell_type": "markdown",
   "id": "cc23cb4e",
   "metadata": {},
   "source": [
    "# Array_concatenation"
   ]
  },
  {
   "cell_type": "code",
   "execution_count": 41,
   "id": "8882bed3",
   "metadata": {},
   "outputs": [],
   "source": [
    "import numpy as np"
   ]
  },
  {
   "cell_type": "code",
   "execution_count": 42,
   "id": "c6fce5bf",
   "metadata": {},
   "outputs": [],
   "source": [
    "arr1=np.array([1,2,3])"
   ]
  },
  {
   "cell_type": "code",
   "execution_count": 43,
   "id": "78860a8e",
   "metadata": {},
   "outputs": [],
   "source": [
    "arr2=np.array([4,5,6])"
   ]
  },
  {
   "cell_type": "code",
   "execution_count": 44,
   "id": "0e2863cf",
   "metadata": {},
   "outputs": [],
   "source": [
    "concordinate=np.concatenate((arr1,arr2))"
   ]
  },
  {
   "cell_type": "code",
   "execution_count": 45,
   "id": "4828bb60",
   "metadata": {},
   "outputs": [
    {
     "name": "stdout",
     "output_type": "stream",
     "text": [
      "concordinate_array: [1 2 3 4 5 6]\n"
     ]
    }
   ],
   "source": [
    "print(\"concordinate_array:\",concordinate)"
   ]
  },
  {
   "cell_type": "markdown",
   "id": "5aaa517e",
   "metadata": {},
   "source": [
    "# Boolean Indexing"
   ]
  },
  {
   "cell_type": "code",
   "execution_count": 46,
   "id": "601450d7",
   "metadata": {},
   "outputs": [],
   "source": [
    "import numpy as np"
   ]
  },
  {
   "cell_type": "code",
   "execution_count": 47,
   "id": "cd4cf352",
   "metadata": {},
   "outputs": [],
   "source": [
    "arr=np.array([1,2,3,4,5])"
   ]
  },
  {
   "cell_type": "code",
   "execution_count": 48,
   "id": "1f5b3695",
   "metadata": {},
   "outputs": [],
   "source": [
    "filter_array=arr[arr>2]"
   ]
  },
  {
   "cell_type": "code",
   "execution_count": 49,
   "id": "d40e9721",
   "metadata": {},
   "outputs": [
    {
     "name": "stdout",
     "output_type": "stream",
     "text": [
      "filterd_array [3 4 5]\n"
     ]
    }
   ],
   "source": [
    "print(\"filterd_array\",filter_array)"
   ]
  },
  {
   "cell_type": "markdown",
   "id": "d6f85117",
   "metadata": {},
   "source": [
    "# Dot product"
   ]
  },
  {
   "cell_type": "code",
   "execution_count": 50,
   "id": "ef3e96a9",
   "metadata": {},
   "outputs": [],
   "source": [
    "import numpy as np"
   ]
  },
  {
   "cell_type": "code",
   "execution_count": 51,
   "id": "557f3194",
   "metadata": {},
   "outputs": [],
   "source": [
    "arr1=np.array([1,2,3])"
   ]
  },
  {
   "cell_type": "code",
   "execution_count": 52,
   "id": "fb82f968",
   "metadata": {},
   "outputs": [],
   "source": [
    "arr2=np.array([4,5,6])"
   ]
  },
  {
   "cell_type": "code",
   "execution_count": 53,
   "id": "e2c71ba7",
   "metadata": {},
   "outputs": [],
   "source": [
    "dot_prtoduct=np.dot(arr1,arr2)"
   ]
  },
  {
   "cell_type": "code",
   "execution_count": 54,
   "id": "3f26dfa8",
   "metadata": {},
   "outputs": [
    {
     "name": "stdout",
     "output_type": "stream",
     "text": [
      "dot_product 32\n"
     ]
    }
   ],
   "source": [
    "print(\"dot_product\",dot_prtoduct)"
   ]
  },
  {
   "cell_type": "markdown",
   "id": "df8841f8",
   "metadata": {},
   "source": [
    "# Linear algebra operations"
   ]
  },
  {
   "cell_type": "code",
   "execution_count": 55,
   "id": "d6317e9c",
   "metadata": {},
   "outputs": [],
   "source": [
    "import numpy as np"
   ]
  },
  {
   "cell_type": "code",
   "execution_count": 56,
   "id": "4685eb44",
   "metadata": {},
   "outputs": [],
   "source": [
    "matrix=np.array([[1,2],[3,4]])"
   ]
  },
  {
   "cell_type": "code",
   "execution_count": 57,
   "id": "9571dc65",
   "metadata": {},
   "outputs": [],
   "source": [
    "determinant=np.linalg.det(matrix)"
   ]
  },
  {
   "cell_type": "code",
   "execution_count": 61,
   "id": "b936aa15",
   "metadata": {},
   "outputs": [],
   "source": [
    "inverse=np.linalg.inv(matrix)"
   ]
  },
  {
   "cell_type": "code",
   "execution_count": 62,
   "id": "3ac34573",
   "metadata": {},
   "outputs": [
    {
     "name": "stdout",
     "output_type": "stream",
     "text": [
      "determinant -2.0000000000000004\n"
     ]
    }
   ],
   "source": [
    "print(\"determinant\",determinant)"
   ]
  },
  {
   "cell_type": "code",
   "execution_count": 65,
   "id": "28a4f59e",
   "metadata": {},
   "outputs": [
    {
     "name": "stdout",
     "output_type": "stream",
     "text": [
      "nverse [[-2.   1. ]\n",
      " [ 1.5 -0.5]]\n"
     ]
    }
   ],
   "source": [
    "print(\"nverse\",inverse)"
   ]
  }
 ],
 "metadata": {
  "kernelspec": {
   "display_name": "Python 3 (ipykernel)",
   "language": "python",
   "name": "python3"
  },
  "language_info": {
   "codemirror_mode": {
    "name": "ipython",
    "version": 3
   },
   "file_extension": ".py",
   "mimetype": "text/x-python",
   "name": "python",
   "nbconvert_exporter": "python",
   "pygments_lexer": "ipython3",
   "version": "3.9.12"
  }
 },
 "nbformat": 4,
 "nbformat_minor": 5
}
